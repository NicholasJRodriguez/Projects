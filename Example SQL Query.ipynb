{
 "cells": [
  {
   "cell_type": "code",
   "execution_count": 1,
   "id": "dd2c495f-615e-4aeb-84e6-612b22645eca",
   "metadata": {},
   "outputs": [],
   "source": [
    "# Load the SQL extension\n",
    "%load_ext sql"
   ]
  },
  {
   "cell_type": "code",
   "execution_count": 2,
   "id": "9d9e0d12-7660-428d-9050-22bb2f2eeca5",
   "metadata": {},
   "outputs": [],
   "source": [
    "# Use an in memory SQLite database\n",
    "%sql sqlite:///employees.db"
   ]
  },
  {
   "cell_type": "code",
   "execution_count": 3,
   "id": "94886edd-aa30-41fa-8650-edd0d55d9209",
   "metadata": {},
   "outputs": [
    {
     "name": "stdout",
     "output_type": "stream",
     "text": [
      " * sqlite:///employees.db\n",
      "Done.\n",
      "Done.\n"
     ]
    },
    {
     "data": {
      "text/plain": [
       "[]"
      ]
     },
     "execution_count": 3,
     "metadata": {},
     "output_type": "execute_result"
    }
   ],
   "source": [
    "%%sql\n",
    "/* Create a sample table */\n",
    "DROP TABLE IF EXISTS employees;\n",
    "\n",
    "CREATE TABLE employees(\n",
    "    id INTEGER PRIMARY KEY,\n",
    "    name TEXT,\n",
    "    career TEXT,\n",
    "    salary INTEGER\n",
    ");"
   ]
  },
  {
   "cell_type": "code",
   "execution_count": 4,
   "id": "990f2471-a082-437e-9119-06d93343c31c",
   "metadata": {},
   "outputs": [
    {
     "name": "stdout",
     "output_type": "stream",
     "text": [
      " * sqlite:///employees.db\n",
      "(sqlite3.OperationalError) 3 values for 4 columns\n",
      "[SQL: /* Create employee table with name, career, and salary */\n",
      "INSERT INTO employees (id, name, career, salary) VALUES\n",
      "('Bob', 'Engineer', 85000),\n",
      "('Sandy', 'Architect', 82000),\n",
      "('Charles', 'Teacher', 65000);]\n",
      "(Background on this error at: https://sqlalche.me/e/20/e3q8)\n"
     ]
    }
   ],
   "source": [
    "%%sql\n",
    "/* Create employee table with name, career, and salary */\n",
    "INSERT INTO employees (id, name, career, salary) VALUES\n",
    "('Bob', 'Engineer', 85000),\n",
    "('Sandy', 'Architect', 82000),\n",
    "('Charles', 'Teacher', 65000);"
   ]
  },
  {
   "cell_type": "code",
   "execution_count": 5,
   "id": "2e0705fe-6cf8-4ae1-ab7a-b6e62efa8e20",
   "metadata": {},
   "outputs": [],
   "source": [
    "%config SqlMagic.autopandas = True"
   ]
  },
  {
   "cell_type": "code",
   "execution_count": 6,
   "id": "c552e09b-1a92-48bd-b28c-a570ab57c829",
   "metadata": {
    "scrolled": true
   },
   "outputs": [
    {
     "name": "stdout",
     "output_type": "stream",
     "text": [
      " * sqlite:///employees.db\n",
      "Done.\n"
     ]
    },
    {
     "data": {
      "text/html": [
       "<div>\n",
       "<style scoped>\n",
       "    .dataframe tbody tr th:only-of-type {\n",
       "        vertical-align: middle;\n",
       "    }\n",
       "\n",
       "    .dataframe tbody tr th {\n",
       "        vertical-align: top;\n",
       "    }\n",
       "\n",
       "    .dataframe thead th {\n",
       "        text-align: right;\n",
       "    }\n",
       "</style>\n",
       "<table border=\"1\" class=\"dataframe\">\n",
       "  <thead>\n",
       "    <tr style=\"text-align: right;\">\n",
       "      <th></th>\n",
       "    </tr>\n",
       "  </thead>\n",
       "  <tbody>\n",
       "  </tbody>\n",
       "</table>\n",
       "</div>"
      ],
      "text/plain": [
       "Empty DataFrame\n",
       "Columns: []\n",
       "Index: []"
      ]
     },
     "execution_count": 6,
     "metadata": {},
     "output_type": "execute_result"
    }
   ],
   "source": [
    "%%sql \n",
    "SELECT name, salary FROM employees WHERE salary > 50000;"
   ]
  },
  {
   "cell_type": "code",
   "execution_count": 8,
   "id": "f417e8f2-73ed-4bf1-8bb4-aacaf49ddd09",
   "metadata": {},
   "outputs": [
    {
     "name": "stdout",
     "output_type": "stream",
     "text": [
      " * sqlite:///employees.db\n",
      "Done.\n"
     ]
    }
   ],
   "source": [
    "result = %sql SELECT name, salary FROM employees WHERE salary > 50000;\n",
    "df = result"
   ]
  }
 ],
 "metadata": {
  "kernelspec": {
   "display_name": "Python 3 (ipykernel)",
   "language": "python",
   "name": "python3"
  },
  "language_info": {
   "codemirror_mode": {
    "name": "ipython",
    "version": 3
   },
   "file_extension": ".py",
   "mimetype": "text/x-python",
   "name": "python",
   "nbconvert_exporter": "python",
   "pygments_lexer": "ipython3",
   "version": "3.12.7"
  }
 },
 "nbformat": 4,
 "nbformat_minor": 5
}
